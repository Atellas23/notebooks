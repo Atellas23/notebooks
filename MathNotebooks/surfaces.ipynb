{
 "cells": [
  {
   "cell_type": "code",
   "execution_count": 1,
   "metadata": {},
   "outputs": [],
   "source": [
    "import sympy as sym\n",
    "from sympy.vector import CoordSys3D\n",
    "from sympy import Matrix, powdenest\n",
    "from sympy.physics.mechanics import dynamicsymbols, init_vprinting\n",
    "from sympy.solvers.ode.systems import dsolve_system\n",
    "init_vprinting(use_latex=True)"
   ]
  },
  {
   "cell_type": "code",
   "execution_count": 2,
   "metadata": {},
   "outputs": [
    {
     "data": {
      "image/png": "[encoded data removed]",
      "text/latex": [
       "$\\displaystyle (\\left(u^{3} + 1\\right) \\cos{\\left(v \\right)})\\mathbf{\\hat{i}_{ref}} + (\\left(u^{3} + 1\\right) \\sin{\\left(v \\right)})\\mathbf{\\hat{j}_{ref}} + (u)\\mathbf{\\hat{k}_{ref}}$"
      ],
      "text/plain": [
       "⎛⎛ 3    ⎞       ⎞                ⎛⎛ 3    ⎞       ⎞                         \n",
       "⎝⎝u  + 1⎠ i_ref⋅cos(v)⎠ i_ref  + ⎝⎝u  + 1⎠ j_ref⋅sin(v)⎠ j_ref  + (u) k_ref"
      ]
     },
     "execution_count": 2,
     "metadata": {},
     "output_type": "execute_result"
    }
   ],
   "source": [
    "# u = sym.Symbol('u')\n",
    "# v = sym.Symbol('v')\n",
    "u, v = dynamicsymbols('u v')\n",
    "ref = CoordSys3D('ref')\n",
    "\n",
    "# sigma = (sym.cos(u)*sym.cos(v), sym.cos(u)*sym.sin(v), sym.sin(u))\n",
    "# sigma = sym.cos(u)*sym.cos(v)*ref.i + sym.cos(u)*sym.sin(v)*ref.j + sym.sin(u)*ref.k\n",
    "# sigma = u*ref.i + v*ref.j + u*v*ref.k\n",
    "sigma = (u**3 + 1)*sym.cos(v)*ref.i + (u**3 + 1)*sym.sin(v)*ref.j + u*ref.k\n",
    "# print(sym.diff(sigma, u))\n",
    "# sym.diff(sigma, u).to_matrix(ref)\n",
    "sigma"
   ]
  },
  {
   "cell_type": "code",
   "execution_count": 3,
   "metadata": {},
   "outputs": [],
   "source": [
    "def tangent_plane_basis(sigma):\n",
    "    return sym.diff(sigma, u).simplify(), sym.diff(sigma, v).simplify()\n",
    "\n",
    "def first_fundamental_form(sigma):\n",
    "    sigma_u, sigma_v = tangent_plane_basis(sigma)\n",
    "    E = sigma_u.dot(sigma_u).simplify()\n",
    "    F = sigma_u.dot(sigma_v).simplify()\n",
    "    G = sigma_v.dot(sigma_v).simplify()\n",
    "    I = Matrix([[E, F], [F, G]])\n",
    "    return I\n",
    "\n",
    "def normal_vector(sigma):\n",
    "    sigma_u, sigma_v = tangent_plane_basis(sigma)\n",
    "    N = sigma_u.cross(sigma_v).simplify().normalize().simplify()\n",
    "    return N\n",
    "\n",
    "def second_fundamental_form(sigma):\n",
    "    sigma_u, sigma_v = tangent_plane_basis(sigma)\n",
    "    sigma_uu = sym.diff(sigma_u, u).simplify()\n",
    "    sigma_uv = sym.diff(sigma_u, v).simplify()\n",
    "    assert sym.diff(sigma_v, u).simplify() == sigma_uv\n",
    "    sigma_vv = sym.diff(sigma_v, v).simplify()\n",
    "    N = normal_vector(sigma)\n",
    "    e = sigma_uu.dot(N).simplify()\n",
    "    f = sigma_uv.dot(N).simplify()\n",
    "    g = sigma_vv.dot(N).simplify()\n",
    "    II = Matrix([[e, f], [f, g]])\n",
    "    return II\n",
    "\n",
    "def christoffel_symbols(sigma):\n",
    "    I = first_fundamental_form(sigma)\n",
    "    E_u, E_v = sym.diff(I[0,0], u).simplify(), sym.diff(I[0,0], v).simplify()\n",
    "    F_u, F_v = sym.diff(I[0,1], u).simplify(), sym.diff(I[0,1], v).simplify()\n",
    "    G_u, G_v = sym.diff(I[1,1], u).simplify(), sym.diff(I[1,1], v).simplify()\n",
    "    system_intercepts = Matrix(\n",
    "        [\n",
    "            [E_u/2, E_v/2, F_v - G_u/2],\n",
    "            [F_u - E_v/2, G_u/2, G_v/2]\n",
    "        ]\n",
    "    )\n",
    "    result = ((I**(-1))*system_intercepts)\n",
    "    return result\n",
    "\n",
    "def gauss_equations(sigma):\n",
    "    I  = first_fundamental_form(sigma)\n",
    "    # II = second_fundamental_form(sigma)\n",
    "    # K  = (II.det()/I.det()).simplify()\n",
    "    E, F, G = I[0,0], I[0,1], I[1,1]\n",
    "    # E, F, G, K = sym.symbols('E,F,G,K')\n",
    "    K = sym.Symbol('K')\n",
    "    ch = christoffel_symbols(sigma)\n",
    "    \n",
    "\n",
    "    eq1 = sym.Eq(E*K, sym.diff(ch[0,0], v) - sym.diff(ch[1,1], u) + ch[0,0]*ch[1,1] - ch[0,1]*ch[1,0] + ch[1,0]*ch[1,2] - ch[1,1]*ch[1,1])\n",
    "    eq2 = sym.Eq(F*K, sym.diff(ch[0,1], u) - sym.diff(ch[0,0], v) + ch[1,1]*ch[0,1] - ch[1,0]*ch[0,2])\n",
    "    eq3 = sym.Eq(G*K, sym.diff(ch[0,2], u) - sym.diff(ch[0,1], v) + ch[0,0]*ch[0,2] + ch[0,1]*ch[1,2] - ch[0,1]*ch[0,1] - ch[1,1]*ch[0,2])\n",
    "    return eq1, eq2, eq3\n",
    "\n",
    "def gauss_curvature(sigma, mode='extrinsic'):\n",
    "    if mode == 'extrinsic':\n",
    "        I  = first_fundamental_form(sigma)\n",
    "        II = second_fundamental_form(sigma)\n",
    "        K  = (II.det()/I.det()).simplify()\n",
    "        K_sym = sym.Symbol('K')\n",
    "        return sym.Eq(K_sym, K)\n",
    "    elif mode == 'intrinsic':\n",
    "        eqns = gauss_equations(sigma)\n",
    "        K_sym = sym.Symbol('K')\n",
    "        for eq in eqns:\n",
    "            if len(eq.find(0)) == 0:\n",
    "                sol = sym.solve(eq, K_sym)\n",
    "                return sym.Eq(K_sym, sol[0])\n",
    "\n",
    "\n",
    "def geodesics_equations(sigma):\n",
    "    ch = christoffel_symbols(sigma)\n",
    "    return sym.Eq(sym.diff(sym.diff(u)) + \\\n",
    "        (Matrix([sym.diff(u), sym.diff(v)]).T * Matrix([[ch[0,0], ch[0,1]], [ch[0,1], ch[0,2]]]) * Matrix([sym.diff(u), sym.diff(v)]))[0].simplify(), 0), \\\n",
    "           sym.Eq(sym.diff(sym.diff(v)) + \\\n",
    "        (Matrix([sym.diff(u), sym.diff(v)]).T * Matrix([[ch[1,0], ch[1,1]], [ch[1,1], ch[1,2]]]) * Matrix([sym.diff(u), sym.diff(v)]))[0].simplify(), 0)\n",
    "\n",
    "def find_geodesics(sigma):\n",
    "    eqns = geodesics_equations(sigma)\n",
    "    geo = dsolve_system(eqns)\n",
    "    # geo1 = sym.dsolve(eqns[1])\n",
    "    return geo\n",
    "\n",
    "def covariant_derivative(sigma, field, dir):\n",
    "    # primer calculem la derivada \"total\"\n",
    "    sigma_u, sigma_v = tangent_plane_basis(sigma)\n",
    "    total_derivative_along_dir = ...\n",
    "    # llavors li restem la component normal\n",
    "    N = normal_vector(sigma)\n",
    "    covariant_derivative = total_derivative_along_dir - total_derivative_along_dir.dot(N).simplify()*N\n",
    "    # et voilà! tenim la derivada covariant\n",
    "    covariant_derivative = covariant_derivative.simplify()\n",
    "    return covariant_derivative"
   ]
  },
  {
   "cell_type": "code",
   "execution_count": 4,
   "metadata": {},
   "outputs": [
    {
     "data": {
      "text/latex": [
       "$\\displaystyle \\left[\\begin{matrix}9 u^{4} + 1 & 0\\\\0 & \\left(u^{3} + 1\\right)^{2}\\end{matrix}\\right]$"
      ],
      "text/plain": [
       "⎡   4               ⎤\n",
       "⎢9⋅u  + 1      0    ⎥\n",
       "⎢                   ⎥\n",
       "⎢                  2⎥\n",
       "⎢          ⎛ 3    ⎞ ⎥\n",
       "⎣   0      ⎝u  + 1⎠ ⎦"
      ]
     },
     "execution_count": 4,
     "metadata": {},
     "output_type": "execute_result"
    }
   ],
   "source": [
    "first_fundamental_form(sigma)"
   ]
  },
  {
   "cell_type": "code",
   "execution_count": 5,
   "metadata": {},
   "outputs": [
    {
     "data": {
      "text/latex": [
       "$\\displaystyle \\left[\\begin{matrix}- \\frac{6 \\left(u^{3} + 1\\right) u}{\\sqrt{\\left(u^{3} + 1\\right)^{2} \\left(9 u^{4} + 1\\right)}} & 0\\\\0 & \\frac{\\left(u^{3} + 1\\right)^{2}}{\\sqrt{\\left(u^{3} + 1\\right)^{2} \\left(9 u^{4} + 1\\right)}}\\end{matrix}\\right]$"
      ],
      "text/plain": [
       "⎡         ⎛ 3    ⎞                                     ⎤\n",
       "⎢      -6⋅⎝u  + 1⎠⋅u                                   ⎥\n",
       "⎢──────────────────────────              0             ⎥\n",
       "⎢    ______________________                            ⎥\n",
       "⎢   ╱         2                                        ⎥\n",
       "⎢  ╱  ⎛ 3    ⎞  ⎛   4    ⎞                             ⎥\n",
       "⎢╲╱   ⎝u  + 1⎠ ⋅⎝9⋅u  + 1⎠                             ⎥\n",
       "⎢                                                      ⎥\n",
       "⎢                                            2         ⎥\n",
       "⎢                                    ⎛ 3    ⎞          ⎥\n",
       "⎢                                    ⎝u  + 1⎠          ⎥\n",
       "⎢            0               ──────────────────────────⎥\n",
       "⎢                                ______________________⎥\n",
       "⎢                               ╱         2            ⎥\n",
       "⎢                              ╱  ⎛ 3    ⎞  ⎛   4    ⎞ ⎥\n",
       "⎣                            ╲╱   ⎝u  + 1⎠ ⋅⎝9⋅u  + 1⎠ ⎦"
      ]
     },
     "execution_count": 5,
     "metadata": {},
     "output_type": "execute_result"
    }
   ],
   "source": [
    "second_fundamental_form(sigma)"
   ]
  },
  {
   "cell_type": "code",
   "execution_count": 6,
   "metadata": {},
   "outputs": [
    {
     "data": {
      "text/latex": [
       "$\\displaystyle \\left[\\begin{matrix}\\frac{18 u^{3}}{9 u^{4} + 1} & 0 & \\frac{- 3 u^{5} - 3 u^{2}}{9 u^{4} + 1}\\\\0 & \\frac{3 u^{2}}{u^{3} + 1} & 0\\end{matrix}\\right]$"
      ],
      "text/plain": [
       "⎡     3                 5      2⎤\n",
       "⎢ 18⋅u             - 3⋅u  - 3⋅u ⎥\n",
       "⎢────────    0     ─────────────⎥\n",
       "⎢   4                    4      ⎥\n",
       "⎢9⋅u  + 1             9⋅u  + 1  ⎥\n",
       "⎢                               ⎥\n",
       "⎢              2                ⎥\n",
       "⎢           3⋅u                 ⎥\n",
       "⎢   0      ──────        0      ⎥\n",
       "⎢           3                   ⎥\n",
       "⎣          u  + 1               ⎦"
      ]
     },
     "execution_count": 6,
     "metadata": {},
     "output_type": "execute_result"
    }
   ],
   "source": [
    "sym.factor(christoffel_symbols(sigma)).cancel()"
   ]
  },
  {
   "cell_type": "code",
   "execution_count": 7,
   "metadata": {},
   "outputs": [
    {
     "data": {
      "image/png": "[encoded data removed]",
      "text/latex": [
       "$\\displaystyle \\left( \\frac{3 \\left(- \\left(u^{3} + 1\\right) \\dot{v}^{2} + 6 u \\dot{u}^{2}\\right) u^{2}}{9 u^{4} + 1} + \\ddot{u} = 0, \\  \\ddot{v} + \\frac{6 u^{2} \\dot{u} \\dot{v}}{u^{3} + 1} = 0\\right)$"
      ],
      "text/plain": [
       "⎛  ⎛  ⎛ 3    ⎞  2        2⎞  2                 2        ⎞\n",
       "⎜3⋅⎝- ⎝u  + 1⎠⋅v̇  + 6⋅u⋅u̇ ⎠⋅u               6⋅u ⋅u̇⋅v̇    ⎟\n",
       "⎜───────────────────────────── + ü = 0, v̈ + ──────── = 0⎟\n",
       "⎜              4                              3         ⎟\n",
       "⎝           9⋅u  + 1                         u  + 1     ⎠"
      ]
     },
     "execution_count": 7,
     "metadata": {},
     "output_type": "execute_result"
    }
   ],
   "source": [
    "geodesics_equations(sigma)"
   ]
  },
  {
   "cell_type": "code",
   "execution_count": 8,
   "metadata": {},
   "outputs": [
    {
     "data": {
      "image/png": "[encoded data removed]",
      "text/latex": [
       "$\\displaystyle K = - \\frac{6 u}{\\left(u + 1\\right) \\left(9 u^{4} + 1\\right)^{2} \\left(u^{2} - u + 1\\right)}$"
      ],
      "text/plain": [
       "                 -6⋅u               \n",
       "K = ────────────────────────────────\n",
       "                      2             \n",
       "            ⎛   4    ⎞  ⎛ 2        ⎞\n",
       "    (u + 1)⋅⎝9⋅u  + 1⎠ ⋅⎝u  - u + 1⎠"
      ]
     },
     "execution_count": 8,
     "metadata": {},
     "output_type": "execute_result"
    }
   ],
   "source": [
    "sym.factor(gauss_curvature(sigma, mode='intrinsic'))"
   ]
  },
  {
   "cell_type": "code",
   "execution_count": 9,
   "metadata": {},
   "outputs": [
    {
     "data": {
      "image/png": "[encoded data removed]",
      "text/latex": [
       "$\\displaystyle K = - \\frac{6 u}{\\left(u + 1\\right) \\left(9 u^{4} + 1\\right)^{2} \\left(u^{2} - u + 1\\right)}$"
      ],
      "text/plain": [
       "                 -6⋅u               \n",
       "K = ────────────────────────────────\n",
       "                      2             \n",
       "            ⎛   4    ⎞  ⎛ 2        ⎞\n",
       "    (u + 1)⋅⎝9⋅u  + 1⎠ ⋅⎝u  - u + 1⎠"
      ]
     },
     "execution_count": 9,
     "metadata": {},
     "output_type": "execute_result"
    }
   ],
   "source": [
    "sym.factor(gauss_curvature(sigma, mode='extrinsic'))"
   ]
  },
  {
   "cell_type": "code",
   "execution_count": 10,
   "metadata": {},
   "outputs": [
    {
     "data": {
      "text/latex": [
       "$\\displaystyle \\left( K \\left(9 u^{4} + 1\\right) = - \\frac{6 u}{\\left(u + 1\\right) \\left(9 u^{4} + 1\\right) \\left(u^{2} - u + 1\\right)}, \\  \\text{True}, \\  K \\left(u + 1\\right)^{2} \\left(u^{2} - u + 1\\right)^{2} = - \\frac{6 \\left(u + 1\\right) \\left(u^{2} - u + 1\\right) u}{\\left(9 u^{4} + 1\\right)^{2}}\\right)$"
      ],
      "text/plain": [
       "⎛                                                                             \n",
       "⎜  ⎛   4    ⎞                -6⋅u                               2 ⎛ 2        ⎞\n",
       "⎜K⋅⎝9⋅u  + 1⎠ = ───────────────────────────────, True, K⋅(u + 1) ⋅⎝u  - u + 1⎠\n",
       "⎜                       ⎛   4    ⎞ ⎛ 2        ⎞                               \n",
       "⎜               (u + 1)⋅⎝9⋅u  + 1⎠⋅⎝u  - u + 1⎠                               \n",
       "⎝                                                                             \n",
       "\n",
       "2              ⎛ 2        ⎞   ⎞\n",
       "    -6⋅(u + 1)⋅⎝u  - u + 1⎠⋅u ⎟\n",
       "  = ──────────────────────────⎟\n",
       "                     2        ⎟\n",
       "           ⎛   4    ⎞         ⎟\n",
       "           ⎝9⋅u  + 1⎠         ⎠"
      ]
     },
     "execution_count": 10,
     "metadata": {},
     "output_type": "execute_result"
    }
   ],
   "source": [
    "sym.cancel(sym.factor(gauss_equations(sigma)))"
   ]
  },
  {
   "cell_type": "code",
   "execution_count": 11,
   "metadata": {},
   "outputs": [],
   "source": [
    "# find_geodesics(sigma) # Does not work!"
   ]
  }
 ],
 "metadata": {
  "interpreter": {
   "hash": "767d51c1340bd893661ea55ea3124f6de3c7a262a8b4abca0554b478b1e2ff90"
  },
  "kernelspec": {
   "display_name": "Python 3.8.10 64-bit",
   "language": "python",
   "name": "python3"
  },
  "language_info": {
   "codemirror_mode": {
    "name": "ipython",
    "version": 3
   },
   "file_extension": ".py",
   "mimetype": "text/x-python",
   "name": "python",
   "nbconvert_exporter": "python",
   "pygments_lexer": "ipython3",
   "version": "3.8.10"
  },
  "orig_nbformat": 4
 },
 "nbformat": 4,
 "nbformat_minor": 2
}
