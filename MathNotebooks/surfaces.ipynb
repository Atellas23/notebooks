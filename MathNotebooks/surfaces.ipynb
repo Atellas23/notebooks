{
 "cells": [
  {
   "cell_type": "code",
   "execution_count": 145,
   "metadata": {},
   "outputs": [],
   "source": [
    "import sympy as sym\n",
    "from sympy.vector import CoordSys3D\n",
    "from sympy import Matrix, powdenest\n",
    "from sympy.physics.mechanics import dynamicsymbols, init_vprinting\n",
    "from sympy.solvers.ode.systems import dsolve_system\n",
    "init_vprinting(use_latex=True)"
   ]
  },
  {
   "cell_type": "code",
   "execution_count": 146,
   "metadata": {},
   "outputs": [
    {
     "data": {
      "text/latex": [
       "$\\displaystyle \\left[\\begin{matrix}1\\\\0\\\\v\\end{matrix}\\right]$"
      ],
      "text/plain": [
       "⎡1⎤\n",
       "⎢ ⎥\n",
       "⎢0⎥\n",
       "⎢ ⎥\n",
       "⎣v⎦"
      ]
     },
     "execution_count": 146,
     "metadata": {},
     "output_type": "execute_result"
    }
   ],
   "source": [
    "u = sym.Symbol('u')\n",
    "v = sym.Symbol('v')\n",
    "u, v = dynamicsymbols('u v')\n",
    "ref = CoordSys3D('ref')\n",
    "\n",
    "# sigma = (sym.cos(u)*sym.cos(v), sym.cos(u)*sym.sin(v), sym.sin(u))\n",
    "# sigma = sym.cos(u)*sym.cos(v)*ref.i + sym.cos(u)*sym.sin(v)*ref.j + sym.sin(u)*ref.k\n",
    "sigma = u*ref.i + v*ref.j + u*v*ref.k\n",
    "# print(sym.diff(sigma, u))\n",
    "sym.diff(sigma, u).to_matrix(ref)"
   ]
  },
  {
   "cell_type": "code",
   "execution_count": 147,
   "metadata": {},
   "outputs": [
    {
     "data": {
      "text/latex": [
       "$\\displaystyle \\left[\\begin{matrix}0 & \\frac{\\left(u^{2} + 1\\right) v}{u^{2} + v^{2} + 1} - \\frac{u^{2} v}{u^{2} + v^{2} + 1} & 0\\\\0 & \\frac{\\left(v^{2} + 1\\right) u}{u^{2} + v^{2} + 1} - \\frac{u v^{2}}{u^{2} + v^{2} + 1} & 0\\end{matrix}\\right]$"
      ],
      "text/plain": [
       "⎡    ⎛ 2    ⎞          2        ⎤\n",
       "⎢    ⎝u  + 1⎠⋅v       u ⋅v      ⎥\n",
       "⎢0  ─────────── - ───────────  0⎥\n",
       "⎢    2    2        2    2       ⎥\n",
       "⎢   u  + v  + 1   u  + v  + 1   ⎥\n",
       "⎢                               ⎥\n",
       "⎢    ⎛ 2    ⎞            2      ⎥\n",
       "⎢    ⎝v  + 1⎠⋅u       u⋅v       ⎥\n",
       "⎢0  ─────────── - ───────────  0⎥\n",
       "⎢    2    2        2    2       ⎥\n",
       "⎣   u  + v  + 1   u  + v  + 1   ⎦"
      ]
     },
     "execution_count": 147,
     "metadata": {},
     "output_type": "execute_result"
    }
   ],
   "source": [
    "def tangent_plane_basis(sigma):\n",
    "    return sym.diff(sigma, u).simplify(), sym.diff(sigma, v).simplify()\n",
    "\n",
    "def first_fundamental_form(sigma):\n",
    "    sigma_u, sigma_v = tangent_plane_basis(sigma)\n",
    "    E = sigma_u.dot(sigma_u).simplify()\n",
    "    F = sigma_u.dot(sigma_v).simplify()\n",
    "    G = sigma_v.dot(sigma_v).simplify()\n",
    "    I = Matrix([[E, F], [F, G]])\n",
    "    return I\n",
    "\n",
    "def normal_vector(sigma):\n",
    "    sigma_u, sigma_v = tangent_plane_basis(sigma)\n",
    "    N = sigma_u.cross(sigma_v).simplify().normalize().simplify()\n",
    "    return N\n",
    "\n",
    "def second_fundamental_form(sigma):\n",
    "    sigma_u, sigma_v = tangent_plane_basis(sigma)\n",
    "    sigma_uu = sym.diff(sigma_u, u).simplify()\n",
    "    sigma_uv = sym.diff(sigma_u, v).simplify()\n",
    "    assert sym.diff(sigma_v, u).simplify() == sigma_uv\n",
    "    sigma_vv = sym.diff(sigma_v, v).simplify()\n",
    "    N = normal_vector(sigma)\n",
    "    e = sigma_uu.cross(N).simplify()\n",
    "    f = sigma_uv.cross(N).simplify()\n",
    "    g = sigma_vv.cross(N).simplify()\n",
    "    II = Matrix([[e, f], [f, g]])\n",
    "    return II\n",
    "\n",
    "def christoffel_symbols(sigma):\n",
    "    I = first_fundamental_form(sigma)\n",
    "    E_u, E_v = sym.diff(I[0,0], u).simplify(), sym.diff(I[0,0], v).simplify()\n",
    "    F_u, F_v = sym.diff(I[0,1], u).simplify(), sym.diff(I[0,1], v).simplify()\n",
    "    G_u, G_v = sym.diff(I[1,1], u).simplify(), sym.diff(I[1,1], v).simplify()\n",
    "    system_intercepts = Matrix(\n",
    "        [\n",
    "            [E_u/2, E_v/2, F_v - G_u/2],\n",
    "            [F_u - E_v/2, G_u/2, G_v/2]\n",
    "        ]\n",
    "    )\n",
    "    result = ((I**(-1))*system_intercepts)\n",
    "    return result\n",
    "\n",
    "def geodesics_equations(sigma):\n",
    "    ch = christoffel_symbols(sigma)\n",
    "    return sym.Eq(sym.diff(sym.diff(u)) + \\\n",
    "        (Matrix([sym.diff(u), sym.diff(v)]).T * Matrix([[ch[0,0], ch[0,1]], [ch[0,1], ch[0,2]]]) * Matrix([sym.diff(u), sym.diff(v)]))[0].simplify(), 0), \\\n",
    "           sym.Eq(sym.diff(sym.diff(v)) + \\\n",
    "        (Matrix([sym.diff(u), sym.diff(v)]).T * Matrix([[ch[1,0], ch[1,1]], [ch[1,1], ch[1,2]]]) * Matrix([sym.diff(u), sym.diff(v)]))[0].simplify(), 0)\n",
    "\n",
    "def find_geodesics(sigma):\n",
    "    eqns = geodesics_equations(sigma)\n",
    "    geo = dsolve_system(eqns)\n",
    "    # geo1 = sym.dsolve(eqns[1])\n",
    "    return geo\n",
    "\n",
    "def gauss_equations(sigma):\n",
    "    I  = first_fundamental_form(sigma)\n",
    "    II = second_fundamental_form(sigma)\n",
    "    K  = (I.det()*II.det()).simplify()\n",
    "    ch = christoffel_symbols(sigma)\n",
    "    \n",
    "    E, F, G = I[0,0], I[0,1], I[1,1]\n",
    "\n",
    "    eq1 = sym.Eq(E*K, sym.diff(ch[0,0], v) - sym.diff(ch[1,1], u) + ch[0,0]*ch[1,1] - ch[0,1]*ch[1,0] + ch[1,0]*ch[1,2] - ch[1,1]*ch[1,1])\n",
    "\n",
    "def covariant_derivative(sigma, field, dir):\n",
    "    # primer calculem la derivada \"total\"\n",
    "    sigma_u, sigma_v = tangent_plane_basis(sigma)\n",
    "    total_derivative_along_dir = ...\n",
    "    # llavors li restem la component normal\n",
    "    N = normal_vector(sigma)\n",
    "    covariant_derivative = total_derivative_along_dir - total_derivative_along_dir.dot(N).simplify()*N\n",
    "    # et voilà! tenim la derivada covariant\n",
    "    covariant_derivative = covariant_derivative.simplify()\n",
    "    return covariant_derivative\n",
    "\n",
    "# sym.expand_trig(normal_vector(sigma))\n",
    "# I = first_fundamental_form(sigma)\n",
    "# I_u = sym.diff(I, u)\n",
    "# I_v = sym.diff(I, v)\n",
    "A = christoffel_symbols(sigma)\n",
    "A = sym.expand_trig(A)\n",
    "A = sym.trigsimp(A)\n",
    "# sym.diff(sym.diff(u))+(Matrix([sym.diff(u), sym.diff(v)]).T * Matrix([[A[0,0], A[0,1]], [A[0,1], A[0,2]]]) * Matrix([sym.diff(u), sym.diff(v)]))[0]\n",
    "A"
   ]
  },
  {
   "cell_type": "code",
   "execution_count": 160,
   "metadata": {},
   "outputs": [
    {
     "data": {
      "text/latex": [
       "$\\displaystyle \\left[\\begin{matrix}0 & \\frac{v}{u^{2} + v^{2} + 1} & 0\\\\0 & \\frac{u}{u^{2} + v^{2} + 1} & 0\\end{matrix}\\right]$"
      ],
      "text/plain": [
       "⎡        v        ⎤\n",
       "⎢0  ───────────  0⎥\n",
       "⎢    2    2       ⎥\n",
       "⎢   u  + v  + 1   ⎥\n",
       "⎢                 ⎥\n",
       "⎢        u        ⎥\n",
       "⎢0  ───────────  0⎥\n",
       "⎢    2    2       ⎥\n",
       "⎣   u  + v  + 1   ⎦"
      ]
     },
     "execution_count": 160,
     "metadata": {},
     "output_type": "execute_result"
    }
   ],
   "source": [
    "def tangent_plane_basis(sigma):\n",
    "    return sym.diff(sigma, u).simplify(), sym.diff(sigma, v).simplify()\n",
    "\n",
    "def first_fundamental_form(sigma):\n",
    "    sigma_u, sigma_v = tangent_plane_basis(sigma)\n",
    "    E = sigma_u.dot(sigma_u).simplify()\n",
    "    F = sigma_u.dot(sigma_v).simplify()\n",
    "    G = sigma_v.dot(sigma_v).simplify()\n",
    "    I = Matrix([[E, F], [F, G]])\n",
    "    return I\n",
    "\n",
    "def normal_vector(sigma):\n",
    "    sigma_u, sigma_v = tangent_plane_basis(sigma)\n",
    "    N = sigma_u.cross(sigma_v).simplify().normalize().simplify()\n",
    "    return N\n",
    "\n",
    "def second_fundamental_form(sigma):\n",
    "    sigma_u, sigma_v = tangent_plane_basis(sigma)\n",
    "    sigma_uu = sym.diff(sigma_u, u).simplify()\n",
    "    sigma_uv = sym.diff(sigma_u, v).simplify()\n",
    "    assert sym.diff(sigma_v, u).simplify() == sigma_uv\n",
    "    sigma_vv = sym.diff(sigma_v, v).simplify()\n",
    "    N = normal_vector(sigma)\n",
    "    e = sigma_uu.dot(N).simplify()\n",
    "    f = sigma_uv.dot(N).simplify()\n",
    "    g = sigma_vv.dot(N).simplify()\n",
    "    II = Matrix([[e, f], [f, g]])\n",
    "    return II\n",
    "\n",
    "def christoffel_symbols(sigma):\n",
    "    I = first_fundamental_form(sigma)\n",
    "    E_u, E_v = sym.diff(I[0,0], u).simplify(), sym.diff(I[0,0], v).simplify()\n",
    "    F_u, F_v = sym.diff(I[0,1], u).simplify(), sym.diff(I[0,1], v).simplify()\n",
    "    G_u, G_v = sym.diff(I[1,1], u).simplify(), sym.diff(I[1,1], v).simplify()\n",
    "    system_intercepts = Matrix(\n",
    "        [\n",
    "            [E_u/2, E_v/2, F_v - G_u/2],\n",
    "            [F_u - E_v/2, G_u/2, G_v/2]\n",
    "        ]\n",
    "    )\n",
    "    result = ((I**(-1))*system_intercepts)\n",
    "    return result\n",
    "\n",
    "def geodesics_equations(sigma):\n",
    "    ch = christoffel_symbols(sigma)\n",
    "    return sym.Eq(sym.diff(sym.diff(u)) + \\\n",
    "        (Matrix([sym.diff(u), sym.diff(v)]).T * Matrix([[ch[0,0], ch[0,1]], [ch[0,1], ch[0,2]]]) * Matrix([sym.diff(u), sym.diff(v)]))[0].simplify(), 0), \\\n",
    "           sym.Eq(sym.diff(sym.diff(v)) + \\\n",
    "        (Matrix([sym.diff(u), sym.diff(v)]).T * Matrix([[ch[1,0], ch[1,1]], [ch[1,1], ch[1,2]]]) * Matrix([sym.diff(u), sym.diff(v)]))[0].simplify(), 0)\n",
    "\n",
    "def find_geodesics(sigma):\n",
    "    eqns = geodesics_equations(sigma)\n",
    "    geo = dsolve_system(eqns)\n",
    "    # geo1 = sym.dsolve(eqns[1])\n",
    "    return geo\n",
    "\n",
    "def gauss_equations(sigma):\n",
    "    I  = first_fundamental_form(sigma)\n",
    "    II = second_fundamental_form(sigma)\n",
    "    K  = (II.det()/I.det()).simplify()\n",
    "    E, F, G = I[0,0], I[0,1], I[1,1]\n",
    "    # E, F, G, K = sym.symbols('E,F,G,K')\n",
    "    ch = christoffel_symbols(sigma)\n",
    "    \n",
    "\n",
    "    eq1 = sym.Eq(E*K, sym.diff(ch[0,0], v) - sym.diff(ch[1,1], u) + ch[0,0]*ch[1,1] - ch[0,1]*ch[1,0] + ch[1,0]*ch[1,2] - ch[1,1]*ch[1,1])\n",
    "    eq2 = sym.Eq(F*K, sym.diff(ch[0,1], u) - sym.diff(ch[0,0], v) + ch[1,1]*ch[0,1] - ch[1,0]*ch[0,2])\n",
    "    eq3 = sym.Eq(G*K, sym.diff(ch[0,2], u) - sym.diff(ch[0,1], v) + ch[0,0]*ch[0,2] + ch[0,1]*ch[1,2] - ch[0,1]*ch[0,1] - ch[1,1]*ch[0,2])\n",
    "    return eq1, eq2, eq3\n",
    "\n",
    "def covariant_derivative(sigma, field, dir):\n",
    "    # primer calculem la derivada \"total\"\n",
    "    sigma_u, sigma_v = tangent_plane_basis(sigma)\n",
    "    total_derivative_along_dir = ...\n",
    "    # llavors li restem la component normal\n",
    "    N = normal_vector(sigma)\n",
    "    covariant_derivative = total_derivative_along_dir - total_derivative_along_dir.dot(N).simplify()*N\n",
    "    # et voilà! tenim la derivada covariant\n",
    "    covariant_derivative = covariant_derivative.simplify()\n",
    "    return covariant_derivative\n",
    "\n",
    "# sym.expand_trig(normal_vector(sigma))\n",
    "# I = first_fundamental_form(sigma)\n",
    "# I_u = sym.diff(I, u)\n",
    "# I_v = sym.diff(I, v)\n",
    "A = christoffel_symbols(sigma)\n",
    "# A = sym.expand_trig(A)\n",
    "# A = sym.trigsimp(A)\n",
    "A = sym.factor(A).cancel()\n",
    "# sym.diff(sym.diff(u))+(Matrix([sym.diff(u), sym.diff(v)]).T * Matrix([[A[0,0], A[0,1]], [A[0,1], A[0,2]]]) * Matrix([sym.diff(u), sym.diff(v)]))[0]\n",
    "A"
   ]
  },
  {
   "cell_type": "code",
   "execution_count": 161,
   "metadata": {},
   "outputs": [
    {
     "data": {
      "image/png": "[encoded data removed]",
      "text/latex": [
       "$\\displaystyle \\left( \\ddot{u} + \\frac{2 v \\dot{u} \\dot{v}}{u^{2} + v^{2} + 1} = 0, \\  \\ddot{v} + \\frac{2 u \\dot{u} \\dot{v}}{u^{2} + v^{2} + 1} = 0\\right)$"
      ],
      "text/plain": [
       "⎛     2⋅v⋅u̇⋅v̇            2⋅u⋅u̇⋅v̇     ⎞\n",
       "⎜ü + ─────────── = 0, v̈ + ─────────── = 0⎟\n",
       "⎜     2    2               2    2        ⎟\n",
       "⎝    u  + v  + 1          u  + v  + 1    ⎠"
      ]
     },
     "execution_count": 161,
     "metadata": {},
     "output_type": "execute_result"
    }
   ],
   "source": [
    "geodesics_equations(sigma)"
   ]
  },
  {
   "cell_type": "code",
   "execution_count": 162,
   "metadata": {},
   "outputs": [
    {
     "data": {
      "text/latex": [
       "$\\displaystyle \\left( \\text{True}, \\  \\text{True}, \\  \\text{True}\\right)$"
      ],
      "text/plain": [
       "(True, True, True)"
      ]
     },
     "execution_count": 162,
     "metadata": {},
     "output_type": "execute_result"
    }
   ],
   "source": [
    "sym.cancel(sym.factor(gauss_equations(sigma)))"
   ]
  },
  {
   "cell_type": "code",
   "execution_count": 138,
   "metadata": {},
   "outputs": [],
   "source": [
    "# find_geodesics(sigma) # Does not work!"
   ]
  }
 ],
 "metadata": {
  "interpreter": {
   "hash": "767d51c1340bd893661ea55ea3124f6de3c7a262a8b4abca0554b478b1e2ff90"
  },
  "kernelspec": {
   "display_name": "Python 3.8.10 64-bit",
   "language": "python",
   "name": "python3"
  },
  "language_info": {
   "codemirror_mode": {
    "name": "ipython",
    "version": 3
   },
   "file_extension": ".py",
   "mimetype": "text/x-python",
   "name": "python",
   "nbconvert_exporter": "python",
   "pygments_lexer": "ipython3",
   "version": "3.8.10"
  },
  "orig_nbformat": 4
 },
 "nbformat": 4,
 "nbformat_minor": 2
}
